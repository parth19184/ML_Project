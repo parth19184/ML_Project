{
 "cells": [
  {
   "cell_type": "code",
   "execution_count": 20,
   "metadata": {},
   "outputs": [],
   "source": [
    "import pandas as pd\n",
    "import numpy as np\n",
    "import matplotlib.pyplot as plt\n",
    "import math"
   ]
  },
  {
   "cell_type": "code",
   "execution_count": 21,
   "metadata": {},
   "outputs": [],
   "source": [
    "final_df = pd.read_csv(\"created/nationa_and_league_sorted.csv\")"
   ]
  },
  {
   "cell_type": "code",
   "execution_count": 22,
   "metadata": {},
   "outputs": [],
   "source": [
    "final_df[\"Nationality\"].fillna('', inplace = True)"
   ]
  },
  {
   "cell_type": "code",
   "execution_count": 23,
   "metadata": {},
   "outputs": [
    {
     "data": {
      "text/plain": [
       "''"
      ]
     },
     "execution_count": 23,
     "metadata": {},
     "output_type": "execute_result"
    }
   ],
   "source": [
    "final_df.iloc[6, 14]"
   ]
  },
  {
   "cell_type": "code",
   "execution_count": 27,
   "metadata": {},
   "outputs": [],
   "source": [
    "for data in final_df[\"Nationality\"].iteritems():\n",
    "    if(data[1] != \"\" and data[1][-1] == \"]\"):\n",
    "        final_df.iloc[data[0], 14] = data[1][:-3]"
   ]
  },
  {
   "cell_type": "code",
   "execution_count": 28,
   "metadata": {},
   "outputs": [],
   "source": [
    "for data in final_df[\"Nationality\"].iteritems():\n",
    "    if(data[1] != \"\" and data[1][0] == \"{\"):\n",
    "        final_df.iloc[data[0], 14] = data[1][4:]"
   ]
  },
  {
   "cell_type": "code",
   "execution_count": 29,
   "metadata": {},
   "outputs": [
    {
     "name": "stdout",
     "output_type": "stream",
     "text": [
      "18\n",
      "13\n",
      "10\n",
      "10\n",
      "13\n",
      "9\n",
      "10\n",
      "11\n",
      "2\n",
      "17\n",
      "12\n",
      "11\n",
      "11\n",
      "10\n",
      "11\n",
      "11\n",
      "9\n",
      "12\n",
      "2\n",
      "2\n",
      "2\n",
      "10\n",
      "26\n",
      "11\n",
      "2\n",
      "24\n",
      "12\n",
      "16\n",
      "24\n",
      "9\n",
      "10\n"
     ]
    }
   ],
   "source": [
    "for data in final_df[\"Nationality\"].iteritems():\n",
    "    if(data[1] != \"\" and data[1].startswith(\"\\n\")):\n",
    "        if(data[1].find(\"]\") != -1):\n",
    "            index = data[1].find(\"]\")\n",
    "            final_df.iloc[data[0], 14] = data[1][index + 2:]\n",
    "            print(index)\n",
    "        else:\n",
    "            \n",
    "            final_df.iloc[data[0], 14] = data[1][2:]\n",
    "            print(\"2\")\n",
    "        "
   ]
  },
  {
   "cell_type": "code",
   "execution_count": 33,
   "metadata": {},
   "outputs": [],
   "source": [
    "for data in final_df[\"Nationality\"].iteritems():\n",
    "    \n",
    "    final_df.iloc[data[0], 14] = data[1].strip()"
   ]
  },
  {
   "cell_type": "code",
   "execution_count": 34,
   "metadata": {},
   "outputs": [
    {
     "data": {
      "text/plain": [
       "array(['Portugal', 'Argentina', 'Netherlands', 'France', 'England', '',\n",
       "       'SR Bosnia and Herzegovina,SFR Yugoslavia', 'Suriname', 'Spain',\n",
       "       'Burundi', 'Ireland', 'Norway', 'Soviet Union (now Ukraine)',\n",
       "       'Italy', 'Brazil', 'Colombia', 'SFR Yugoslavia', 'Zaire', 'Wales',\n",
       "       'Australia', 'Turkey', 'West Germany', 'Cameroon', 'New Caledonia',\n",
       "       'Northern Ireland', 'Iceland', 'Nigeria', 'Switzerland',\n",
       "       'Scotland', 'Chile', 'Ghana', 'Belgium', 'Denmark', 'Soviet Union',\n",
       "       'Paraguay', 'Romania', 'Czechoslovakia', 'Uruguay', 'Bulgaria',\n",
       "       'East Germany', 'Sweden', 'Greece', 'South Africa',\n",
       "       'SR Croatia,SFR Yugoslavia',\n",
       "       'Czechoslovakia  (now Czech Republic)', 'Finland', 'Morocco',\n",
       "       'Austria', 'Yugoslavia', 'Ivory Coast', 'Guadeloupe', 'Japan',\n",
       "       'Cyprus', 'Réunion', 'Sierra Leone', 'Peru', 'Poland', 'U.S.',\n",
       "       'Ecuador', 'Angola', 'Netherland', 'Liberia', 'Iran', 'Costa Rica',\n",
       "       'Senegal', 'Togo', 'French Guiana', 'Mali', 'Estonia',\n",
       "       'Trinidad and Tobago', 'São Tomé and Príncipe', 'United States',\n",
       "       'Albania', 'Republic of Ireland', 'Gambia', 'Guinea', 'enmark',\n",
       "       'Mexico', 'SR Serbia,SFR Yugoslavia', 'Israel', 'Burkina Faso',\n",
       "       'Egypt', 'SFR Yugoslavia  (present-day North Macedonia)',\n",
       "       'Algeria', 'Argenti', 'Zambia', 'Jamaica', 'Hungary', 'Zimbabwe',\n",
       "       'Republic of Kosovo', 'Kenya', 'Tunisia', 'Canada', 'Honduras',\n",
       "       'orn at sea', 'Zaire(now DR Congo)', 'Cape Verde',\n",
       "       'Soviet Union (now Russia)', 'Russia)', 'Uganda',\n",
       "       'SR Montenegro,SFR Yugoslavia', 'Benin', 'Ukrainian SSR',\n",
       "       'Russian SFSR,Soviet Union',\n",
       "       'osanska Gradiška,SR Bosnia and Herzegovina,SFR Yugoslavia',\n",
       "       'Venezuela', 'Czech Republic', 'New Zealand', 'Germany',\n",
       "       'Kazakhstan', 'Martinique', 'Oman', 'FR Yugoslavia',\n",
       "       'Netherlands Antilles', 'Central African Republic', 'Croatia',\n",
       "       'China', 'Latvia', 'Armenian SSR,Soviet Union', 'South Korea',\n",
       "       'DR Congo (then Zaire)', 'Slovenia', 'Gabon',\n",
       "       'SR Serbia,Yugoslavia', 'Slovakia', 'Syria', 'DR Congo', 'Ukraine',\n",
       "       'The Gambia'], dtype=object)"
      ]
     },
     "execution_count": 34,
     "metadata": {},
     "output_type": "execute_result"
    }
   ],
   "source": [
    "final_df[\"Nationality\"].unique()"
   ]
  },
  {
   "cell_type": "code",
   "execution_count": 35,
   "metadata": {},
   "outputs": [
    {
     "data": {
      "text/plain": [
       "129"
      ]
     },
     "execution_count": 35,
     "metadata": {},
     "output_type": "execute_result"
    }
   ],
   "source": [
    "len(final_df[\"Nationality\"].unique())"
   ]
  },
  {
   "cell_type": "code",
   "execution_count": 32,
   "metadata": {},
   "outputs": [
    {
     "data": {
      "text/html": [
       "<div>\n",
       "<style scoped>\n",
       "    .dataframe tbody tr th:only-of-type {\n",
       "        vertical-align: middle;\n",
       "    }\n",
       "\n",
       "    .dataframe tbody tr th {\n",
       "        vertical-align: top;\n",
       "    }\n",
       "\n",
       "    .dataframe thead th {\n",
       "        text-align: right;\n",
       "    }\n",
       "</style>\n",
       "<table border=\"1\" class=\"dataframe\">\n",
       "  <thead>\n",
       "    <tr style=\"text-align: right;\">\n",
       "      <th></th>\n",
       "      <th>Unnamed: 0</th>\n",
       "      <th>Unnamed: 0.1</th>\n",
       "      <th>Name</th>\n",
       "      <th>Position</th>\n",
       "      <th>Age</th>\n",
       "      <th>Team_from</th>\n",
       "      <th>League_from</th>\n",
       "      <th>Team_to</th>\n",
       "      <th>League_to</th>\n",
       "      <th>Season</th>\n",
       "      <th>Market_value</th>\n",
       "      <th>Transfer_fee</th>\n",
       "      <th>check_column</th>\n",
       "      <th>Country Column</th>\n",
       "      <th>Nationality</th>\n",
       "    </tr>\n",
       "  </thead>\n",
       "  <tbody>\n",
       "    <tr>\n",
       "      <th>0</th>\n",
       "      <td>0</td>\n",
       "      <td>0</td>\n",
       "      <td>Luís Figo</td>\n",
       "      <td>Right Winger</td>\n",
       "      <td>27</td>\n",
       "      <td>FC Barcelona</td>\n",
       "      <td>LaLiga</td>\n",
       "      <td>Real Madrid</td>\n",
       "      <td>LaLiga</td>\n",
       "      <td>2000-2001</td>\n",
       "      <td>NaN</td>\n",
       "      <td>60000000</td>\n",
       "      <td>NaN</td>\n",
       "      <td>Spain</td>\n",
       "      <td>Portugal</td>\n",
       "    </tr>\n",
       "    <tr>\n",
       "      <th>1</th>\n",
       "      <td>1</td>\n",
       "      <td>1</td>\n",
       "      <td>Hernán Crespo</td>\n",
       "      <td>Centre-Forward</td>\n",
       "      <td>25</td>\n",
       "      <td>Parma</td>\n",
       "      <td>Serie A</td>\n",
       "      <td>Lazio</td>\n",
       "      <td>Serie A</td>\n",
       "      <td>2000-2001</td>\n",
       "      <td>NaN</td>\n",
       "      <td>56810000</td>\n",
       "      <td>True</td>\n",
       "      <td>Italy</td>\n",
       "      <td>Argentina</td>\n",
       "    </tr>\n",
       "    <tr>\n",
       "      <th>2</th>\n",
       "      <td>2</td>\n",
       "      <td>2</td>\n",
       "      <td>Marc Overmars</td>\n",
       "      <td>Left Winger</td>\n",
       "      <td>27</td>\n",
       "      <td>Arsenal</td>\n",
       "      <td>Premier League</td>\n",
       "      <td>FC Barcelona</td>\n",
       "      <td>LaLiga</td>\n",
       "      <td>2000-2001</td>\n",
       "      <td>NaN</td>\n",
       "      <td>40000000</td>\n",
       "      <td>NaN</td>\n",
       "      <td>Spain</td>\n",
       "      <td>Netherlands</td>\n",
       "    </tr>\n",
       "    <tr>\n",
       "      <th>3</th>\n",
       "      <td>3</td>\n",
       "      <td>3</td>\n",
       "      <td>Gabriel Batistuta</td>\n",
       "      <td>Centre-Forward</td>\n",
       "      <td>31</td>\n",
       "      <td>Fiorentina</td>\n",
       "      <td>Serie A</td>\n",
       "      <td>AS Roma</td>\n",
       "      <td>Serie A</td>\n",
       "      <td>2000-2001</td>\n",
       "      <td>NaN</td>\n",
       "      <td>36150000</td>\n",
       "      <td>NaN</td>\n",
       "      <td>Italy</td>\n",
       "      <td>Argentina</td>\n",
       "    </tr>\n",
       "    <tr>\n",
       "      <th>4</th>\n",
       "      <td>4</td>\n",
       "      <td>4</td>\n",
       "      <td>Nicolas Anelka</td>\n",
       "      <td>Centre-Forward</td>\n",
       "      <td>21</td>\n",
       "      <td>Real Madrid</td>\n",
       "      <td>LaLiga</td>\n",
       "      <td>Paris SG</td>\n",
       "      <td>Ligue 1</td>\n",
       "      <td>2000-2001</td>\n",
       "      <td>NaN</td>\n",
       "      <td>34500000</td>\n",
       "      <td>NaN</td>\n",
       "      <td>France</td>\n",
       "      <td>France</td>\n",
       "    </tr>\n",
       "  </tbody>\n",
       "</table>\n",
       "</div>"
      ],
      "text/plain": [
       "   Unnamed: 0  Unnamed: 0.1               Name        Position  Age  \\\n",
       "0           0             0          Luís Figo    Right Winger   27   \n",
       "1           1             1      Hernán Crespo  Centre-Forward   25   \n",
       "2           2             2      Marc Overmars     Left Winger   27   \n",
       "3           3             3  Gabriel Batistuta  Centre-Forward   31   \n",
       "4           4             4     Nicolas Anelka  Centre-Forward   21   \n",
       "\n",
       "      Team_from     League_from       Team_to League_to     Season  \\\n",
       "0  FC Barcelona          LaLiga   Real Madrid    LaLiga  2000-2001   \n",
       "1         Parma         Serie A         Lazio   Serie A  2000-2001   \n",
       "2       Arsenal  Premier League  FC Barcelona    LaLiga  2000-2001   \n",
       "3    Fiorentina         Serie A       AS Roma   Serie A  2000-2001   \n",
       "4   Real Madrid          LaLiga      Paris SG   Ligue 1  2000-2001   \n",
       "\n",
       "   Market_value  Transfer_fee check_column Country Column  Nationality  \n",
       "0           NaN      60000000          NaN          Spain     Portugal  \n",
       "1           NaN      56810000         True          Italy    Argentina  \n",
       "2           NaN      40000000          NaN          Spain  Netherlands  \n",
       "3           NaN      36150000          NaN          Italy    Argentina  \n",
       "4           NaN      34500000          NaN         France       France  "
      ]
     },
     "execution_count": 32,
     "metadata": {},
     "output_type": "execute_result"
    }
   ],
   "source": [
    "final_df.head(5)"
   ]
  },
  {
   "cell_type": "code",
   "execution_count": 36,
   "metadata": {},
   "outputs": [],
   "source": [
    "final_df.to_csv(\"created/final_dataset.csv\")"
   ]
  }
 ],
 "metadata": {
  "interpreter": {
   "hash": "2ac3d5d3a4336f34c662130573d1ea696fb4dfcbf6baf7c9925b84262e1f6ae2"
  },
  "kernelspec": {
   "display_name": "Python 3.9.7 ('base')",
   "language": "python",
   "name": "python3"
  },
  "language_info": {
   "codemirror_mode": {
    "name": "ipython",
    "version": 3
   },
   "file_extension": ".py",
   "mimetype": "text/x-python",
   "name": "python",
   "nbconvert_exporter": "python",
   "pygments_lexer": "ipython3",
   "version": "3.9.7"
  },
  "orig_nbformat": 4
 },
 "nbformat": 4,
 "nbformat_minor": 2
}
