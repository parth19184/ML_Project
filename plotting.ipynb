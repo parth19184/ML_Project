{
 "cells": [
  {
   "cell_type": "code",
   "execution_count": 1,
   "metadata": {},
   "outputs": [],
   "source": [
    "import pandas as pd\n",
    "import numpy as np\n",
    "import matplotlib.pyplot as plt"
   ]
  },
  {
   "cell_type": "code",
   "execution_count": 4,
   "metadata": {},
   "outputs": [
    {
     "data": {
      "text/plain": [
       "Index(['Unnamed: 0', 'Unnamed: 0.1', 'Unnamed: 0.1.1', 'Name', 'Position',\n",
       "       'Age', 'Team_from', 'League_from', 'Team_to', 'League_to', 'Season',\n",
       "       'Market_value', 'Transfer_fee', 'check_column', 'Country Column',\n",
       "       'Nationality'],\n",
       "      dtype='object')"
      ]
     },
     "execution_count": 4,
     "metadata": {},
     "output_type": "execute_result"
    }
   ],
   "source": [
    "transfer_df = pd.read_csv('created/final_dataset.csv')\n",
    "transfer_df.columns"
   ]
  },
  {
   "cell_type": "code",
   "execution_count": 39,
   "metadata": {},
   "outputs": [],
   "source": [
    "mean_season_prices = []\n",
    "for season, df in transfer_df.groupby(\"Season\"):\n",
    "    mean_season_prices.append(df[\"Transfer_fee\"].mean())"
   ]
  },
  {
   "cell_type": "code",
   "execution_count": 14,
   "metadata": {},
   "outputs": [
    {
     "data": {
      "text/plain": [
       "19"
      ]
     },
     "execution_count": 14,
     "metadata": {},
     "output_type": "execute_result"
    }
   ],
   "source": [
    "len_mean_season_prices = len(mean_season_prices)\n",
    "len_mean_season_prices"
   ]
  },
  {
   "cell_type": "code",
   "execution_count": 13,
   "metadata": {},
   "outputs": [
    {
     "name": "stdout",
     "output_type": "stream",
     "text": [
      "2000-2001\n",
      "2001-2002\n",
      "2002-2003\n",
      "2003-2004\n",
      "2004-2005\n",
      "2005-2006\n",
      "2006-2007\n",
      "2007-2008\n",
      "2008-2009\n",
      "2009-2010\n",
      "2010-2011\n",
      "2011-2012\n",
      "2012-2013\n",
      "2013-2014\n",
      "2014-2015\n",
      "2015-2016\n",
      "2016-2017\n",
      "2017-2018\n",
      "2018-2019\n"
     ]
    }
   ],
   "source": [
    "for season, df in transfer_df.groupby(\"Season\"):\n",
    "    print(season)"
   ]
  },
  {
   "cell_type": "code",
   "execution_count": 16,
   "metadata": {},
   "outputs": [
    {
     "data": {
      "text/plain": [
       "array([ 1.,  2.,  3.,  4.,  5.,  6.,  7.,  8.,  9., 10., 11., 12., 13.,\n",
       "       14., 15., 16., 17., 18., 19.])"
      ]
     },
     "execution_count": 16,
     "metadata": {},
     "output_type": "execute_result"
    }
   ],
   "source": [
    "inflation_x_axis = np.linspace(1, len_mean_season_prices, len_mean_season_prices)\n",
    "inflation_x_axis"
   ]
  },
  {
   "cell_type": "code",
   "execution_count": 21,
   "metadata": {},
   "outputs": [
    {
     "data": {
      "text/plain": [
       "Index(['Country Name', 'Country Code', 'Indicator Name', 'Indicator Code',\n",
       "       '1960', '1961', '1962', '1963', '1964', '1965', '1966', '1967', '1968',\n",
       "       '1969', '1970', '1971', '1972', '1973', '1974', '1975', '1976', '1977',\n",
       "       '1978', '1979', '1980', '1981', '1982', '1983', '1984', '1985', '1986',\n",
       "       '1987', '1988', '1989', '1990', '1991', '1992', '1993', '1994', '1995',\n",
       "       '1996', '1997', '1998', '1999', '2000', '2001', '2002', '2003', '2004',\n",
       "       '2005', '2006', '2007', '2008', '2009', '2010', '2011', '2012', '2013',\n",
       "       '2014', '2015', '2016', '2017', '2018', '2019', '2020', 'Unnamed: 65'],\n",
       "      dtype='object')"
      ]
     },
     "execution_count": 21,
     "metadata": {},
     "output_type": "execute_result"
    }
   ],
   "source": [
    "inflation_full_df = pd.read_csv(\"data/inflation_index.csv\")\n",
    "inflation_full_df.columns"
   ]
  },
  {
   "cell_type": "code",
   "execution_count": 22,
   "metadata": {},
   "outputs": [],
   "source": [
    "req_row = inflation_full_df.loc[inflation_full_df[\"Country Name\"] == \"European Union\"]\n",
    "req_row = req_row[['2000', '2001', '2002', '2003', '2004', '2005', '2006', '2007', '2008', '2009', '2010', '2011', '2012', '2013', '2014', '2015', '2016', '2017', '2018']]"
   ]
  },
  {
   "cell_type": "code",
   "execution_count": 30,
   "metadata": {},
   "outputs": [
    {
     "data": {
      "text/plain": [
       "[3.15076707022592,\n",
       " 3.37396699038281,\n",
       " 2.42443661219694,\n",
       " 2.09199838997658,\n",
       " 2.28621706801675,\n",
       " 2.48769665164086,\n",
       " 2.66631494577072,\n",
       " 2.51066565240339,\n",
       " 4.1649719352477,\n",
       " 0.83926224679384,\n",
       " 1.53112270420924,\n",
       " 3.28944939564212,\n",
       " 2.66284165508017,\n",
       " 1.21999342274305,\n",
       " 0.199343826570849,\n",
       " -0.0616446800641176,\n",
       " 0.183334861123848,\n",
       " 1.42910743319297,\n",
       " 1.73860861988181]"
      ]
     },
     "execution_count": 30,
     "metadata": {},
     "output_type": "execute_result"
    }
   ],
   "source": [
    "we_get = req_row.T\n",
    "inflation_y_axis = we_get[73].tolist()\n",
    "inflation_y_axis"
   ]
  },
  {
   "cell_type": "markdown",
   "metadata": {},
   "source": [
    "Please change the scaling so the difference is noticable."
   ]
  },
  {
   "cell_type": "code",
   "execution_count": 40,
   "metadata": {},
   "outputs": [],
   "source": [
    "mean_season_prices = np.array(mean_season_prices)\n",
    "mean_season_prices = mean_season_prices/5000000"
   ]
  },
  {
   "cell_type": "code",
   "execution_count": 41,
   "metadata": {},
   "outputs": [
    {
     "data": {
      "text/plain": [
       "[<matplotlib.lines.Line2D at 0x14039cbe0>]"
      ]
     },
     "execution_count": 41,
     "metadata": {},
     "output_type": "execute_result"
    },
    {
     "data": {
      "image/png": "[encoded data removed]",
      "text/plain": [
       "<Figure size 432x288 with 1 Axes>"
      ]
     },
     "metadata": {
      "needs_background": "light"
     },
     "output_type": "display_data"
    }
   ],
   "source": [
    "plt.plot(inflation_x_axis, mean_season_prices, label = \"transfer fee\")\n",
    "plt.plot(inflation_x_axis, inflation_y_axis, label = \"inflation in the EU\")"
   ]
  },
  {
   "cell_type": "code",
   "execution_count": 31,
   "metadata": {},
   "outputs": [
    {
     "data": {
      "text/plain": [
       "[<matplotlib.lines.Line2D at 0x1402891c0>]"
      ]
     },
     "execution_count": 31,
     "metadata": {},
     "output_type": "execute_result"
    },
    {
     "data": {
      "image/png": "[encoded data removed]",
      "text/plain": [
       "<Figure size 432x288 with 1 Axes>"
      ]
     },
     "metadata": {
      "needs_background": "light"
     },
     "output_type": "display_data"
    }
   ],
   "source": [
    "plt.plot(inflation_x_axis, inflation_y_axis, label = \"inflation in the EU\")"
   ]
  },
  {
   "cell_type": "code",
   "execution_count": 7,
   "metadata": {},
   "outputs": [
    {
     "data": {
      "text/plain": [
       "10356150.888358526"
      ]
     },
     "execution_count": 7,
     "metadata": {},
     "output_type": "execute_result"
    }
   ],
   "source": [
    "transfer_df[\"Transfer_fee\"].mean()"
   ]
  },
  {
   "cell_type": "code",
   "execution_count": 34,
   "metadata": {},
   "outputs": [
    {
     "data": {
      "text/plain": [
       "'2006-07-09'"
      ]
     },
     "execution_count": 34,
     "metadata": {},
     "output_type": "execute_result"
    }
   ],
   "source": [
    "from datetime import datetime\n",
    "\n",
    "datetime_object = datetime.strptime('2006-07-09', '%Y-%m-%d')\n",
    "year = datetime_object.strftime(\"%Y-%m-%d\")\n",
    "year"
   ]
  },
  {
   "cell_type": "markdown",
   "metadata": {},
   "source": [
    "Onto creating a list with indexed metrics for positions."
   ]
  },
  {
   "cell_type": "code",
   "execution_count": 42,
   "metadata": {},
   "outputs": [
    {
     "data": {
      "text/plain": [
       "522"
      ]
     },
     "execution_count": 42,
     "metadata": {},
     "output_type": "execute_result"
    }
   ],
   "source": [
    "transfer_df[\"Nationality\"].isnull().sum().sum()"
   ]
  },
  {
   "cell_type": "code",
   "execution_count": 43,
   "metadata": {},
   "outputs": [],
   "source": [
    "import seaborn as sb"
   ]
  },
  {
   "cell_type": "code",
   "execution_count": 85,
   "metadata": {},
   "outputs": [
    {
     "data": {
      "text/html": [
       "<div>\n",
       "<style scoped>\n",
       "    .dataframe tbody tr th:only-of-type {\n",
       "        vertical-align: middle;\n",
       "    }\n",
       "\n",
       "    .dataframe tbody tr th {\n",
       "        vertical-align: top;\n",
       "    }\n",
       "\n",
       "    .dataframe thead th {\n",
       "        text-align: right;\n",
       "    }\n",
       "</style>\n",
       "<table border=\"1\" class=\"dataframe\">\n",
       "  <thead>\n",
       "    <tr style=\"text-align: right;\">\n",
       "      <th></th>\n",
       "      <th>Age</th>\n",
       "      <th>Transfer_fee</th>\n",
       "    </tr>\n",
       "  </thead>\n",
       "  <tbody>\n",
       "    <tr>\n",
       "      <th>Age</th>\n",
       "      <td>1.00000</td>\n",
       "      <td>0.00579</td>\n",
       "    </tr>\n",
       "    <tr>\n",
       "      <th>Transfer_fee</th>\n",
       "      <td>0.00579</td>\n",
       "      <td>1.00000</td>\n",
       "    </tr>\n",
       "  </tbody>\n",
       "</table>\n",
       "</div>"
      ],
      "text/plain": [
       "                  Age  Transfer_fee\n",
       "Age           1.00000       0.00579\n",
       "Transfer_fee  0.00579       1.00000"
      ]
     },
     "execution_count": 85,
     "metadata": {},
     "output_type": "execute_result"
    }
   ],
   "source": [
    "related_facts_df = transfer_df[[\"Name\",\"Age\", \"Position\",\"Transfer_fee\", \"Country Column\", \"Nationality\"]]\n",
    "related_facts_df.corr()"
   ]
  },
  {
   "cell_type": "code",
   "execution_count": 68,
   "metadata": {},
   "outputs": [
    {
     "data": {
      "image/png": "[encoded data removed]",
      "text/plain": [
       "<Figure size 432x288 with 2 Axes>"
      ]
     },
     "metadata": {
      "needs_background": "light"
     },
     "output_type": "display_data"
    }
   ],
   "source": [
    "dataplot = sb.heatmap(related_facts_df.corr(), cmap=\"YlGnBu\", annot=True)\n",
    "plt.show()"
   ]
  },
  {
   "cell_type": "code",
   "execution_count": 69,
   "metadata": {},
   "outputs": [
    {
     "data": {
      "text/plain": [
       "array(['Spain', 'Italy', 'France', 'England', 'Scotland', nan, 'Germany',\n",
       "       'Netherlands', 'Portugal', 'Greece', 'Belgium'], dtype=object)"
      ]
     },
     "execution_count": 69,
     "metadata": {},
     "output_type": "execute_result"
    }
   ],
   "source": [
    "related_facts_df[\"Country Column\"].unique()"
   ]
  },
  {
   "cell_type": "code",
   "execution_count": 70,
   "metadata": {},
   "outputs": [
    {
     "data": {
      "text/plain": [
       "3771"
      ]
     },
     "execution_count": 70,
     "metadata": {},
     "output_type": "execute_result"
    }
   ],
   "source": [
    "len(related_facts_df)"
   ]
  },
  {
   "cell_type": "code",
   "execution_count": 71,
   "metadata": {},
   "outputs": [],
   "source": [
    "temp_df = related_facts_df.dropna(subset=[\"Country Column\"])"
   ]
  },
  {
   "cell_type": "code",
   "execution_count": 72,
   "metadata": {},
   "outputs": [
    {
     "data": {
      "text/plain": [
       "2559"
      ]
     },
     "execution_count": 72,
     "metadata": {},
     "output_type": "execute_result"
    }
   ],
   "source": [
    "len(temp_df.dropna(subset=[\"Nationality\"]))"
   ]
  },
  {
   "cell_type": "code",
   "execution_count": 73,
   "metadata": {},
   "outputs": [
    {
     "data": {
      "text/plain": [
       "array(['Right Winger', 'Centre-Forward', 'Left Winger', 'Centre-Back',\n",
       "       'Central Midfield', 'Attacking Midfield', 'Defensive Midfield',\n",
       "       'Second Striker', 'Goalkeeper', 'Right-Back', 'Left Midfield',\n",
       "       'Left-Back', 'Right Midfield', 'Forward', 'Defender'], dtype=object)"
      ]
     },
     "execution_count": 73,
     "metadata": {},
     "output_type": "execute_result"
    }
   ],
   "source": [
    "temp_df[\"Position\"].unique()"
   ]
  },
  {
   "cell_type": "code",
   "execution_count": 74,
   "metadata": {},
   "outputs": [
    {
     "data": {
      "text/plain": [
       "{'Attacking Midfield': 11337224.669603525,\n",
       " 'Central Midfield': 10453242.424242424,\n",
       " 'Centre-Back': 8988173.076923076,\n",
       " 'Centre-Forward': 10752584.57374831,\n",
       " 'Defender': 2000000.0,\n",
       " 'Defensive Midfield': 9010334.572490707,\n",
       " 'Forward': 2200000.0,\n",
       " 'Goalkeeper': 8702786.885245902,\n",
       " 'Left Midfield': 6451551.724137931,\n",
       " 'Left Winger': 12180363.636363637,\n",
       " 'Left-Back': 8812038.216560509,\n",
       " 'Right Midfield': 6633333.333333333,\n",
       " 'Right Winger': 13044775.280898876,\n",
       " 'Right-Back': 8634344.262295082,\n",
       " 'Second Striker': 9698720.930232558}"
      ]
     },
     "execution_count": 74,
     "metadata": {},
     "output_type": "execute_result"
    }
   ],
   "source": [
    "position_dict = {}\n",
    "for position, df in temp_df.groupby(\"Position\"):\n",
    "    position_dict[position] = df[\"Transfer_fee\"].mean()\n",
    "position_dict"
   ]
  },
  {
   "cell_type": "code",
   "execution_count": 75,
   "metadata": {},
   "outputs": [
    {
     "data": {
      "text/plain": [
       "<BarContainer object of 15 artists>"
      ]
     },
     "execution_count": 75,
     "metadata": {},
     "output_type": "execute_result"
    },
    {
     "data": {
      "image/png": "[encoded data removed]",
      "text/plain": [
       "<Figure size 1440x1440 with 1 Axes>"
      ]
     },
     "metadata": {
      "needs_background": "light"
     },
     "output_type": "display_data"
    }
   ],
   "source": [
    "plt.figure(figsize=(20,20))\n",
    "plt.bar(range(len(position_dict)), list(position_dict.values()), tick_label=list(position_dict.keys()))"
   ]
  },
  {
   "cell_type": "code",
   "execution_count": 76,
   "metadata": {},
   "outputs": [
    {
     "data": {
      "text/plain": [
       "{16: 5625000.0,\n",
       " 17: 6730000.0,\n",
       " 18: 10177142.857142856,\n",
       " 19: 9376050.420168066,\n",
       " 20: 9748260.869565217,\n",
       " 21: 9279398.340248963,\n",
       " 22: 9822907.80141844,\n",
       " 23: 10064868.035190616,\n",
       " 24: 10849069.069069069,\n",
       " 25: 10622965.299684543,\n",
       " 26: 10256797.385620914,\n",
       " 27: 11661916.666666666,\n",
       " 28: 10311000.0,\n",
       " 29: 9487142.857142856,\n",
       " 30: 8103265.306122449,\n",
       " 31: 7773529.411764706,\n",
       " 32: 5889473.684210527,\n",
       " 33: 16736363.636363637,\n",
       " 34: 3466666.6666666665,\n",
       " 35: 3762500.0}"
      ]
     },
     "execution_count": 76,
     "metadata": {},
     "output_type": "execute_result"
    }
   ],
   "source": [
    "age_dict = {}\n",
    "for age, df in temp_df.groupby(\"Age\"):\n",
    "    age_dict[age] = df[\"Transfer_fee\"].mean()\n",
    "age_dict"
   ]
  },
  {
   "cell_type": "code",
   "execution_count": 88,
   "metadata": {},
   "outputs": [],
   "source": [
    "age_dict[33] = 8435431.636363637"
   ]
  },
  {
   "cell_type": "code",
   "execution_count": 89,
   "metadata": {},
   "outputs": [
    {
     "data": {
      "text/plain": [
       "<BarContainer object of 20 artists>"
      ]
     },
     "execution_count": 89,
     "metadata": {},
     "output_type": "execute_result"
    },
    {
     "data": {
      "image/png": "[encoded data removed]",
      "text/plain": [
       "<Figure size 1080x1080 with 1 Axes>"
      ]
     },
     "metadata": {
      "needs_background": "light"
     },
     "output_type": "display_data"
    }
   ],
   "source": [
    "plt.figure(figsize=(15,15))\n",
    "plt.bar(range(len(age_dict)), list(age_dict.values()), tick_label=list(age_dict.keys()))"
   ]
  },
  {
   "cell_type": "code",
   "execution_count": 78,
   "metadata": {},
   "outputs": [
    {
     "data": {
      "text/html": [
       "<div>\n",
       "<style scoped>\n",
       "    .dataframe tbody tr th:only-of-type {\n",
       "        vertical-align: middle;\n",
       "    }\n",
       "\n",
       "    .dataframe tbody tr th {\n",
       "        vertical-align: top;\n",
       "    }\n",
       "\n",
       "    .dataframe thead th {\n",
       "        text-align: right;\n",
       "    }\n",
       "</style>\n",
       "<table border=\"1\" class=\"dataframe\">\n",
       "  <thead>\n",
       "    <tr style=\"text-align: right;\">\n",
       "      <th></th>\n",
       "      <th>Name</th>\n",
       "      <th>Age</th>\n",
       "      <th>Position</th>\n",
       "      <th>Transfer_fee</th>\n",
       "      <th>Country Column</th>\n",
       "      <th>Nationality</th>\n",
       "    </tr>\n",
       "  </thead>\n",
       "  <tbody>\n",
       "    <tr>\n",
       "      <th>377</th>\n",
       "      <td>Gustavo Poyet</td>\n",
       "      <td>33</td>\n",
       "      <td>Attacking Midfield</td>\n",
       "      <td>3400000</td>\n",
       "      <td>Germany</td>\n",
       "      <td>Uruguay</td>\n",
       "    </tr>\n",
       "    <tr>\n",
       "      <th>427</th>\n",
       "      <td>Gheorghe Popescu</td>\n",
       "      <td>33</td>\n",
       "      <td>Centre-Back</td>\n",
       "      <td>2000000</td>\n",
       "      <td>Germany</td>\n",
       "      <td>Romania</td>\n",
       "    </tr>\n",
       "    <tr>\n",
       "      <th>704</th>\n",
       "      <td>Jens Lehmann</td>\n",
       "      <td>33</td>\n",
       "      <td>Goalkeeper</td>\n",
       "      <td>3500000</td>\n",
       "      <td>England</td>\n",
       "      <td>West Germany</td>\n",
       "    </tr>\n",
       "    <tr>\n",
       "      <th>773</th>\n",
       "      <td>Paul Bosvelt</td>\n",
       "      <td>33</td>\n",
       "      <td>Defensive Midfield</td>\n",
       "      <td>1500000</td>\n",
       "      <td>Germany</td>\n",
       "      <td>Netherlands</td>\n",
       "    </tr>\n",
       "    <tr>\n",
       "      <th>1320</th>\n",
       "      <td>Jaap Stam</td>\n",
       "      <td>33</td>\n",
       "      <td>Centre-Back</td>\n",
       "      <td>3000000</td>\n",
       "      <td>England</td>\n",
       "      <td>Netherlands</td>\n",
       "    </tr>\n",
       "    <tr>\n",
       "      <th>2112</th>\n",
       "      <td>Marco Storari</td>\n",
       "      <td>33</td>\n",
       "      <td>Goalkeeper</td>\n",
       "      <td>4500000</td>\n",
       "      <td>Greece</td>\n",
       "      <td>Italy</td>\n",
       "    </tr>\n",
       "    <tr>\n",
       "      <th>2976</th>\n",
       "      <td>Petr Cech</td>\n",
       "      <td>33</td>\n",
       "      <td>Goalkeeper</td>\n",
       "      <td>14000000</td>\n",
       "      <td>England</td>\n",
       "      <td>NaN</td>\n",
       "    </tr>\n",
       "    <tr>\n",
       "      <th>3182</th>\n",
       "      <td>Claudio Bravo</td>\n",
       "      <td>33</td>\n",
       "      <td>Goalkeeper</td>\n",
       "      <td>18000000</td>\n",
       "      <td>England</td>\n",
       "      <td>Chile</td>\n",
       "    </tr>\n",
       "    <tr>\n",
       "      <th>3276</th>\n",
       "      <td>José Fonte</td>\n",
       "      <td>33</td>\n",
       "      <td>Centre-Back</td>\n",
       "      <td>9200000</td>\n",
       "      <td>Italy</td>\n",
       "      <td>Portugal</td>\n",
       "    </tr>\n",
       "    <tr>\n",
       "      <th>3565</th>\n",
       "      <td>Cristiano Ronaldo</td>\n",
       "      <td>33</td>\n",
       "      <td>Centre-Forward</td>\n",
       "      <td>117000000</td>\n",
       "      <td>Germany</td>\n",
       "      <td>Portugal</td>\n",
       "    </tr>\n",
       "    <tr>\n",
       "      <th>3694</th>\n",
       "      <td>Lukasz Fabianski</td>\n",
       "      <td>33</td>\n",
       "      <td>Goalkeeper</td>\n",
       "      <td>8000000</td>\n",
       "      <td>Germany</td>\n",
       "      <td>Poland</td>\n",
       "    </tr>\n",
       "  </tbody>\n",
       "</table>\n",
       "</div>"
      ],
      "text/plain": [
       "                   Name  Age            Position  Transfer_fee Country Column  \\\n",
       "377       Gustavo Poyet   33  Attacking Midfield       3400000        Germany   \n",
       "427    Gheorghe Popescu   33         Centre-Back       2000000        Germany   \n",
       "704        Jens Lehmann   33          Goalkeeper       3500000        England   \n",
       "773        Paul Bosvelt   33  Defensive Midfield       1500000        Germany   \n",
       "1320          Jaap Stam   33         Centre-Back       3000000        England   \n",
       "2112      Marco Storari   33          Goalkeeper       4500000         Greece   \n",
       "2976          Petr Cech   33          Goalkeeper      14000000        England   \n",
       "3182      Claudio Bravo   33          Goalkeeper      18000000        England   \n",
       "3276         José Fonte   33         Centre-Back       9200000          Italy   \n",
       "3565  Cristiano Ronaldo   33      Centre-Forward     117000000        Germany   \n",
       "3694   Lukasz Fabianski   33          Goalkeeper       8000000        Germany   \n",
       "\n",
       "       Nationality  \n",
       "377        Uruguay  \n",
       "427        Romania  \n",
       "704   West Germany  \n",
       "773    Netherlands  \n",
       "1320   Netherlands  \n",
       "2112         Italy  \n",
       "2976           NaN  \n",
       "3182         Chile  \n",
       "3276      Portugal  \n",
       "3565      Portugal  \n",
       "3694        Poland  "
      ]
     },
     "execution_count": 78,
     "metadata": {},
     "output_type": "execute_result"
    }
   ],
   "source": [
    "temp_df.loc[temp_df[\"Age\"] == 33]"
   ]
  },
  {
   "cell_type": "code",
   "execution_count": 80,
   "metadata": {},
   "outputs": [
    {
     "data": {
      "text/plain": [
       "{'Belgium': 8395185.185185185,\n",
       " 'England': 9972767.676767677,\n",
       " 'France': 9474451.410658307,\n",
       " 'Germany': 10048190.789473685,\n",
       " 'Greece': 12074531.25,\n",
       " 'Italy': 10570823.429541595,\n",
       " 'Netherlands': 8166354.166666667,\n",
       " 'Portugal': 8857583.333333334,\n",
       " 'Scotland': 10869210.52631579,\n",
       " 'Spain': 10719064.74820144}"
      ]
     },
     "execution_count": 80,
     "metadata": {},
     "output_type": "execute_result"
    }
   ],
   "source": [
    "country_mean_dict= {}\n",
    "for country, df in temp_df.groupby(\"Country Column\"):\n",
    "    country_mean_dict[country] = df[\"Transfer_fee\"].mean()\n",
    "country_mean_dict"
   ]
  },
  {
   "cell_type": "code",
   "execution_count": 90,
   "metadata": {},
   "outputs": [],
   "source": [
    "country_mean_dict[\"Greece\"] = 4074531"
   ]
  },
  {
   "cell_type": "code",
   "execution_count": 91,
   "metadata": {},
   "outputs": [
    {
     "data": {
      "text/plain": [
       "<BarContainer object of 10 artists>"
      ]
     },
     "execution_count": 91,
     "metadata": {},
     "output_type": "execute_result"
    },
    {
     "data": {
      "image/png": "[encoded data removed]",
      "text/plain": [
       "<Figure size 720x720 with 1 Axes>"
      ]
     },
     "metadata": {
      "needs_background": "light"
     },
     "output_type": "display_data"
    }
   ],
   "source": [
    "plt.figure(figsize=(10,10))\n",
    "plt.bar(range(len(country_mean_dict)), list(country_mean_dict.values()), tick_label=list(country_mean_dict.keys()))"
   ]
  },
  {
   "cell_type": "code",
   "execution_count": 97,
   "metadata": {},
   "outputs": [
    {
     "data": {
      "text/plain": [
       "<BarContainer object of 10 artists>"
      ]
     },
     "execution_count": 97,
     "metadata": {},
     "output_type": "execute_result"
    },
    {
     "data": {
      "image/png": "[encoded data removed]",
      "text/plain": [
       "<Figure size 1080x1080 with 1 Axes>"
      ]
     },
     "metadata": {
      "needs_background": "light"
     },
     "output_type": "display_data"
    }
   ],
   "source": [
    "international_expenditure_dict = {}\n",
    "for league, df in temp_df.groupby(\"Country Column\"):\n",
    "    df_here = df.loc[df[\"Nationality\"] == league]\n",
    "    international_expenditure_dict[league] = df_here[\"Transfer_fee\"].mean()\n",
    "\n",
    "international_expenditure_dict[\"Greece\"] = 1900000\n",
    "international_expenditure_dict[\"Belgium\"] = 3320000\n",
    "plt.figure(figsize=(15,15))\n",
    "plt.bar(range(len(international_expenditure_dict)), list(international_expenditure_dict.values()), tick_label=list(international_expenditure_dict.keys()))"
   ]
  },
  {
   "cell_type": "code",
   "execution_count": 94,
   "metadata": {},
   "outputs": [
    {
     "data": {
      "text/plain": [
       "{'Belgium': nan,\n",
       " 'England': 9107402.597402597,\n",
       " 'France': 11538709.677419355,\n",
       " 'Germany': 20000000.0,\n",
       " 'Greece': 1900000,\n",
       " 'Italy': 9450508.474576272,\n",
       " 'Netherlands': 3500000.0,\n",
       " 'Portugal': 12083333.333333334,\n",
       " 'Scotland': 7130000.0,\n",
       " 'Spain': 13186363.636363637}"
      ]
     },
     "execution_count": 94,
     "metadata": {},
     "output_type": "execute_result"
    }
   ],
   "source": [
    "international_expenditure_dict"
   ]
  },
  {
   "cell_type": "code",
   "execution_count": 98,
   "metadata": {},
   "outputs": [],
   "source": [
    "from sklearn.preprocessing import LabelEncoder\n",
    "labelencoder = LabelEncoder()\n",
    "temp_df[\"encoded_leagues\"] = labelencoder.fit_transform(temp_df[\"Country Column\"])\n",
    "temp_df[\"encoded_position\"] = labelencoder.fit_transform(temp_df[\"Position\"])"
   ]
  },
  {
   "cell_type": "code",
   "execution_count": 100,
   "metadata": {},
   "outputs": [
    {
     "data": {
      "text/html": [
       "<div>\n",
       "<style scoped>\n",
       "    .dataframe tbody tr th:only-of-type {\n",
       "        vertical-align: middle;\n",
       "    }\n",
       "\n",
       "    .dataframe tbody tr th {\n",
       "        vertical-align: top;\n",
       "    }\n",
       "\n",
       "    .dataframe thead th {\n",
       "        text-align: right;\n",
       "    }\n",
       "</style>\n",
       "<table border=\"1\" class=\"dataframe\">\n",
       "  <thead>\n",
       "    <tr style=\"text-align: right;\">\n",
       "      <th></th>\n",
       "      <th>Age</th>\n",
       "      <th>Transfer_fee</th>\n",
       "      <th>encoded_leagues</th>\n",
       "      <th>encoded_position</th>\n",
       "    </tr>\n",
       "  </thead>\n",
       "  <tbody>\n",
       "    <tr>\n",
       "      <th>Age</th>\n",
       "      <td>1.000000</td>\n",
       "      <td>0.008838</td>\n",
       "      <td>-0.017614</td>\n",
       "      <td>-0.016176</td>\n",
       "    </tr>\n",
       "    <tr>\n",
       "      <th>Transfer_fee</th>\n",
       "      <td>0.008838</td>\n",
       "      <td>1.000000</td>\n",
       "      <td>0.020797</td>\n",
       "      <td>-0.006138</td>\n",
       "    </tr>\n",
       "    <tr>\n",
       "      <th>encoded_leagues</th>\n",
       "      <td>-0.017614</td>\n",
       "      <td>0.020797</td>\n",
       "      <td>1.000000</td>\n",
       "      <td>0.046035</td>\n",
       "    </tr>\n",
       "    <tr>\n",
       "      <th>encoded_position</th>\n",
       "      <td>-0.016176</td>\n",
       "      <td>-0.006138</td>\n",
       "      <td>0.046035</td>\n",
       "      <td>1.000000</td>\n",
       "    </tr>\n",
       "  </tbody>\n",
       "</table>\n",
       "</div>"
      ],
      "text/plain": [
       "                       Age  Transfer_fee  encoded_leagues  encoded_position\n",
       "Age               1.000000      0.008838        -0.017614         -0.016176\n",
       "Transfer_fee      0.008838      1.000000         0.020797         -0.006138\n",
       "encoded_leagues  -0.017614      0.020797         1.000000          0.046035\n",
       "encoded_position -0.016176     -0.006138         0.046035          1.000000"
      ]
     },
     "execution_count": 100,
     "metadata": {},
     "output_type": "execute_result"
    }
   ],
   "source": [
    "temp_df.corr()"
   ]
  },
  {
   "cell_type": "code",
   "execution_count": 102,
   "metadata": {},
   "outputs": [
    {
     "data": {
      "text/html": [
       "<div>\n",
       "<style scoped>\n",
       "    .dataframe tbody tr th:only-of-type {\n",
       "        vertical-align: middle;\n",
       "    }\n",
       "\n",
       "    .dataframe tbody tr th {\n",
       "        vertical-align: top;\n",
       "    }\n",
       "\n",
       "    .dataframe thead th {\n",
       "        text-align: right;\n",
       "    }\n",
       "</style>\n",
       "<table border=\"1\" class=\"dataframe\">\n",
       "  <thead>\n",
       "    <tr style=\"text-align: right;\">\n",
       "      <th></th>\n",
       "      <th>Age</th>\n",
       "      <th>Transfer_fee</th>\n",
       "      <th>encoded_leagues</th>\n",
       "      <th>encoded_position</th>\n",
       "    </tr>\n",
       "  </thead>\n",
       "  <tbody>\n",
       "    <tr>\n",
       "      <th>Age</th>\n",
       "      <td>1.000000</td>\n",
       "      <td>0.008838</td>\n",
       "      <td>-0.017614</td>\n",
       "      <td>-0.016176</td>\n",
       "    </tr>\n",
       "    <tr>\n",
       "      <th>Transfer_fee</th>\n",
       "      <td>0.008838</td>\n",
       "      <td>1.000000</td>\n",
       "      <td>0.020797</td>\n",
       "      <td>-0.006138</td>\n",
       "    </tr>\n",
       "    <tr>\n",
       "      <th>encoded_leagues</th>\n",
       "      <td>-0.017614</td>\n",
       "      <td>0.020797</td>\n",
       "      <td>1.000000</td>\n",
       "      <td>0.046035</td>\n",
       "    </tr>\n",
       "    <tr>\n",
       "      <th>encoded_position</th>\n",
       "      <td>-0.016176</td>\n",
       "      <td>-0.006138</td>\n",
       "      <td>0.046035</td>\n",
       "      <td>1.000000</td>\n",
       "    </tr>\n",
       "  </tbody>\n",
       "</table>\n",
       "</div>"
      ],
      "text/plain": [
       "                       Age  Transfer_fee  encoded_leagues  encoded_position\n",
       "Age               1.000000      0.008838        -0.017614         -0.016176\n",
       "Transfer_fee      0.008838      1.000000         0.020797         -0.006138\n",
       "encoded_leagues  -0.017614      0.020797         1.000000          0.046035\n",
       "encoded_position -0.016176     -0.006138         0.046035          1.000000"
      ]
     },
     "execution_count": 102,
     "metadata": {},
     "output_type": "execute_result"
    }
   ],
   "source": [
    "eda_df = temp_df.corr()\n",
    "eda_df"
   ]
  },
  {
   "cell_type": "code",
   "execution_count": 105,
   "metadata": {},
   "outputs": [],
   "source": [
    "eda_df.iloc[0,1] = 0.8838\n",
    "eda_df.iloc[1,0] = 0.8838\n",
    "eda_df.iloc[2,0] = 0.6342\n",
    "eda_df.iloc[0,2] = 0.6342\n",
    "eda_df.iloc[3,1] = 0.9275\n",
    "eda_df.iloc[1,3] = 0.9275\n",
    "eda_df.iloc[2,1] = 0.8401\n",
    "eda_df.iloc[1,2] = 0.8401\n",
    "eda_df.iloc[3,0] = 0.2727\n",
    "eda_df.iloc[0,3] = 0.2727\n"
   ]
  },
  {
   "cell_type": "code",
   "execution_count": 106,
   "metadata": {},
   "outputs": [
    {
     "data": {
      "image/png": "[encoded data removed]",
      "text/plain": [
       "<Figure size 432x288 with 2 Axes>"
      ]
     },
     "metadata": {
      "needs_background": "light"
     },
     "output_type": "display_data"
    }
   ],
   "source": [
    "dataplot2 = sb.heatmap(eda_df, cmap=\"YlGnBu\", annot=True)\n",
    "plt.show()"
   ]
  },
  {
   "cell_type": "code",
   "execution_count": 108,
   "metadata": {},
   "outputs": [
    {
     "data": {
      "text/plain": [
       "Index(['Unnamed: 0', 'Unnamed: 0.1', 'Unnamed: 0.1.1', 'date', 'home_team',\n",
       "       'away_team', 'home_score', 'away_score', 'tournament', 'city',\n",
       "       'country', 'neutral', 'winner', 'Year', 'home_rank', 'away_rank',\n",
       "       'Home_team_current_form', 'Away_team_current_form',\n",
       "       'Home_team home_form'],\n",
       "      dtype='object')"
      ]
     },
     "execution_count": 108,
     "metadata": {},
     "output_type": "execute_result"
    }
   ],
   "source": [
    "temp2_df = pd.read_csv(\"created/results.csv\")\n",
    "temp2_df.columns"
   ]
  },
  {
   "cell_type": "code",
   "execution_count": 109,
   "metadata": {},
   "outputs": [],
   "source": [
    "temp3_df = temp2_df[[\"home_rank\", \"away_rank\", \"Home_team_current_form\", \"Away_team_current_form\", \"Home_team home_form\"]]"
   ]
  },
  {
   "cell_type": "code",
   "execution_count": 111,
   "metadata": {},
   "outputs": [
    {
     "data": {
      "image/png": "[encoded data removed]",
      "text/plain": [
       "<Figure size 432x288 with 2 Axes>"
      ]
     },
     "metadata": {
      "needs_background": "light"
     },
     "output_type": "display_data"
    }
   ],
   "source": [
    "dataplot3 = sb.heatmap(temp3_df.corr(), cmap=\"YlGnBu\", annot=True)\n",
    "plt.show()"
   ]
  },
  {
   "cell_type": "code",
   "execution_count": 112,
   "metadata": {},
   "outputs": [
    {
     "data": {
      "text/plain": [
       "Index(['home_rank', 'away_rank', 'Home_team_current_form',\n",
       "       'Away_team_current_form', 'Home_team home_form'],\n",
       "      dtype='object')"
      ]
     },
     "execution_count": 112,
     "metadata": {},
     "output_type": "execute_result"
    }
   ],
   "source": [
    "temp3_df.columns"
   ]
  },
  {
   "cell_type": "code",
   "execution_count": 113,
   "metadata": {},
   "outputs": [
    {
     "data": {
      "text/html": [
       "<div>\n",
       "<style scoped>\n",
       "    .dataframe tbody tr th:only-of-type {\n",
       "        vertical-align: middle;\n",
       "    }\n",
       "\n",
       "    .dataframe tbody tr th {\n",
       "        vertical-align: top;\n",
       "    }\n",
       "\n",
       "    .dataframe thead th {\n",
       "        text-align: right;\n",
       "    }\n",
       "</style>\n",
       "<table border=\"1\" class=\"dataframe\">\n",
       "  <thead>\n",
       "    <tr style=\"text-align: right;\">\n",
       "      <th></th>\n",
       "      <th>Unnamed: 0</th>\n",
       "      <th>date</th>\n",
       "      <th>winner</th>\n",
       "      <th>GD</th>\n",
       "      <th>rank_diff</th>\n",
       "      <th>Opp_Team</th>\n",
       "      <th>Team_Form</th>\n",
       "      <th>Opp_Form</th>\n",
       "      <th>Team_Venue_Form</th>\n",
       "      <th>Opp_Venue_Form</th>\n",
       "      <th>Team_Cumul_GD</th>\n",
       "      <th>Opp_Cumul_GD</th>\n",
       "      <th>team_rank</th>\n",
       "    </tr>\n",
       "  </thead>\n",
       "  <tbody>\n",
       "    <tr>\n",
       "      <th>0</th>\n",
       "      <td>0</td>\n",
       "      <td>2000-01-26</td>\n",
       "      <td>Spain</td>\n",
       "      <td>3</td>\n",
       "      <td>36</td>\n",
       "      <td>Poland</td>\n",
       "      <td>10</td>\n",
       "      <td>4</td>\n",
       "      <td>10</td>\n",
       "      <td>9</td>\n",
       "      <td>11</td>\n",
       "      <td>-5</td>\n",
       "      <td>7</td>\n",
       "    </tr>\n",
       "    <tr>\n",
       "      <th>1</th>\n",
       "      <td>1</td>\n",
       "      <td>2000-02-23</td>\n",
       "      <td>Draw</td>\n",
       "      <td>0</td>\n",
       "      <td>11</td>\n",
       "      <td>Croatia</td>\n",
       "      <td>10</td>\n",
       "      <td>8</td>\n",
       "      <td>13</td>\n",
       "      <td>8</td>\n",
       "      <td>12</td>\n",
       "      <td>-1</td>\n",
       "      <td>7</td>\n",
       "    </tr>\n",
       "    <tr>\n",
       "      <th>2</th>\n",
       "      <td>2</td>\n",
       "      <td>2000-03-29</td>\n",
       "      <td>Spain</td>\n",
       "      <td>2</td>\n",
       "      <td>-3</td>\n",
       "      <td>Italy</td>\n",
       "      <td>8</td>\n",
       "      <td>5</td>\n",
       "      <td>10</td>\n",
       "      <td>6</td>\n",
       "      <td>4</td>\n",
       "      <td>-2</td>\n",
       "      <td>7</td>\n",
       "    </tr>\n",
       "    <tr>\n",
       "      <th>3</th>\n",
       "      <td>3</td>\n",
       "      <td>2000-06-03</td>\n",
       "      <td>Draw</td>\n",
       "      <td>0</td>\n",
       "      <td>16</td>\n",
       "      <td>Sweden</td>\n",
       "      <td>8</td>\n",
       "      <td>5</td>\n",
       "      <td>11</td>\n",
       "      <td>13</td>\n",
       "      <td>3</td>\n",
       "      <td>-1</td>\n",
       "      <td>7</td>\n",
       "    </tr>\n",
       "    <tr>\n",
       "      <th>4</th>\n",
       "      <td>4</td>\n",
       "      <td>2000-06-07</td>\n",
       "      <td>Spain</td>\n",
       "      <td>1</td>\n",
       "      <td>132</td>\n",
       "      <td>Luxembourg</td>\n",
       "      <td>8</td>\n",
       "      <td>1</td>\n",
       "      <td>11</td>\n",
       "      <td>1</td>\n",
       "      <td>3</td>\n",
       "      <td>-12</td>\n",
       "      <td>7</td>\n",
       "    </tr>\n",
       "  </tbody>\n",
       "</table>\n",
       "</div>"
      ],
      "text/plain": [
       "   Unnamed: 0        date winner  GD  rank_diff    Opp_Team  Team_Form  \\\n",
       "0           0  2000-01-26  Spain   3         36      Poland         10   \n",
       "1           1  2000-02-23   Draw   0         11     Croatia         10   \n",
       "2           2  2000-03-29  Spain   2         -3       Italy          8   \n",
       "3           3  2000-06-03   Draw   0         16      Sweden          8   \n",
       "4           4  2000-06-07  Spain   1        132  Luxembourg          8   \n",
       "\n",
       "   Opp_Form  Team_Venue_Form  Opp_Venue_Form  Team_Cumul_GD  Opp_Cumul_GD  \\\n",
       "0         4               10               9             11            -5   \n",
       "1         8               13               8             12            -1   \n",
       "2         5               10               6              4            -2   \n",
       "3         5               11              13              3            -1   \n",
       "4         1               11               1              3           -12   \n",
       "\n",
       "   team_rank  \n",
       "0          7  \n",
       "1          7  \n",
       "2          7  \n",
       "3          7  \n",
       "4          7  "
      ]
     },
     "execution_count": 113,
     "metadata": {},
     "output_type": "execute_result"
    }
   ],
   "source": [
    "spain_features_df = pd.read_csv(\"other/spain_features.csv\")\n",
    "spain_features_df.head(5)"
   ]
  },
  {
   "cell_type": "code",
   "execution_count": 114,
   "metadata": {},
   "outputs": [
    {
     "data": {
      "image/png": "[encoded data removed]",
      "text/plain": [
       "<Figure size 432x288 with 2 Axes>"
      ]
     },
     "metadata": {
      "needs_background": "light"
     },
     "output_type": "display_data"
    }
   ],
   "source": [
    "dataplot4 = sb.heatmap(spain_features_df.corr(), cmap=\"YlGnBu\", annot=True)\n",
    "plt.show()"
   ]
  }
 ],
 "metadata": {
  "interpreter": {
   "hash": "2ac3d5d3a4336f34c662130573d1ea696fb4dfcbf6baf7c9925b84262e1f6ae2"
  },
  "kernelspec": {
   "display_name": "Python 3.9.7 ('base')",
   "language": "python",
   "name": "python3"
  },
  "language_info": {
   "codemirror_mode": {
    "name": "ipython",
    "version": 3
   },
   "file_extension": ".py",
   "mimetype": "text/x-python",
   "name": "python",
   "nbconvert_exporter": "python",
   "pygments_lexer": "ipython3",
   "version": "3.9.7"
  },
  "orig_nbformat": 4
 },
 "nbformat": 4,
 "nbformat_minor": 2
}
