{
 "cells": [
  {
   "cell_type": "code",
   "execution_count": 1,
   "metadata": {},
   "outputs": [],
   "source": [
    "import pandas as pd\n",
    "import numpy as np\n",
    "import matplotlib.pyplot as plt"
   ]
  },
  {
   "cell_type": "code",
   "execution_count": 3,
   "metadata": {},
   "outputs": [],
   "source": [
    "whole_df = pd.read_csv('data/transfer_data.csv')"
   ]
  },
  {
   "cell_type": "code",
   "execution_count": 5,
   "metadata": {},
   "outputs": [
    {
     "name": "stdout",
     "output_type": "stream",
     "text": [
      "<class 'pandas.core.frame.DataFrame'>\n",
      "RangeIndex: 4700 entries, 0 to 4699\n",
      "Data columns (total 10 columns):\n",
      " #   Column        Non-Null Count  Dtype  \n",
      "---  ------        --------------  -----  \n",
      " 0   Name          4700 non-null   object \n",
      " 1   Position      4700 non-null   object \n",
      " 2   Age           4700 non-null   int64  \n",
      " 3   Team_from     4700 non-null   object \n",
      " 4   League_from   4700 non-null   object \n",
      " 5   Team_to       4700 non-null   object \n",
      " 6   League_to     4700 non-null   object \n",
      " 7   Season        4700 non-null   object \n",
      " 8   Market_value  3440 non-null   float64\n",
      " 9   Transfer_fee  4700 non-null   int64  \n",
      "dtypes: float64(1), int64(2), object(7)\n",
      "memory usage: 367.3+ KB\n"
     ]
    }
   ],
   "source": [
    "whole_df.info()"
   ]
  },
  {
   "cell_type": "code",
   "execution_count": 6,
   "metadata": {},
   "outputs": [
    {
     "data": {
      "text/plain": [
       "Index(['Name', 'Position', 'Age', 'Team_from', 'League_from', 'Team_to',\n",
       "       'League_to', 'Season', 'Market_value', 'Transfer_fee'],\n",
       "      dtype='object')"
      ]
     },
     "execution_count": 6,
     "metadata": {},
     "output_type": "execute_result"
    }
   ],
   "source": [
    "whole_df.columns"
   ]
  },
  {
   "cell_type": "code",
   "execution_count": 9,
   "metadata": {},
   "outputs": [
    {
     "data": {
      "text/plain": [
       "0             NaN\n",
       "1             NaN\n",
       "2             NaN\n",
       "3             NaN\n",
       "4             NaN\n",
       "          ...    \n",
       "4695    5000000.0\n",
       "4696    3000000.0\n",
       "4697    8500000.0\n",
       "4698    4500000.0\n",
       "4699    3500000.0\n",
       "Name: Market_value, Length: 4700, dtype: float64"
      ]
     },
     "execution_count": 9,
     "metadata": {},
     "output_type": "execute_result"
    }
   ],
   "source": [
    "whole_df['Market_value']"
   ]
  },
  {
   "cell_type": "code",
   "execution_count": 12,
   "metadata": {},
   "outputs": [
    {
     "data": {
      "text/plain": [
       "1260"
      ]
     },
     "execution_count": 12,
     "metadata": {},
     "output_type": "execute_result"
    }
   ],
   "source": [
    "whole_df.isnull().sum().sum()"
   ]
  },
  {
   "cell_type": "code",
   "execution_count": 10,
   "metadata": {},
   "outputs": [
    {
     "data": {
      "text/plain": [
       "0               Luís Figo\n",
       "1           Hernán Crespo\n",
       "2           Marc Overmars\n",
       "3       Gabriel Batistuta\n",
       "4          Nicolas Anelka\n",
       "              ...        \n",
       "4695        Jasmin Kurtic\n",
       "4696            Tchê Tchê\n",
       "4697        Silvan Widmer\n",
       "4698           Yuya Osako\n",
       "4699         Kyle Bartley\n",
       "Name: Name, Length: 4700, dtype: object"
      ]
     },
     "execution_count": 10,
     "metadata": {},
     "output_type": "execute_result"
    }
   ],
   "source": [
    "whole_df[\"Name\"]"
   ]
  },
  {
   "cell_type": "code",
   "execution_count": 13,
   "metadata": {},
   "outputs": [
    {
     "data": {
      "text/plain": [
       "0       60000000\n",
       "1       56810000\n",
       "2       40000000\n",
       "3       36150000\n",
       "4       34500000\n",
       "          ...   \n",
       "4695     4800000\n",
       "4696     4800000\n",
       "4697     4500000\n",
       "4698     4500000\n",
       "4699     4500000\n",
       "Name: Transfer_fee, Length: 4700, dtype: int64"
      ]
     },
     "execution_count": 13,
     "metadata": {},
     "output_type": "execute_result"
    }
   ],
   "source": [
    "whole_df[\"Transfer_fee\"]"
   ]
  },
  {
   "cell_type": "code",
   "execution_count": 14,
   "metadata": {},
   "outputs": [
    {
     "data": {
      "text/plain": [
       "0"
      ]
     },
     "execution_count": 14,
     "metadata": {},
     "output_type": "execute_result"
    }
   ],
   "source": [
    "whole_df[\"Transfer_fee\"].isnull().sum()"
   ]
  }
 ],
 "metadata": {
  "interpreter": {
   "hash": "2ac3d5d3a4336f34c662130573d1ea696fb4dfcbf6baf7c9925b84262e1f6ae2"
  },
  "kernelspec": {
   "display_name": "Python 3.9.7 ('base')",
   "language": "python",
   "name": "python3"
  },
  "language_info": {
   "codemirror_mode": {
    "name": "ipython",
    "version": 3
   },
   "file_extension": ".py",
   "mimetype": "text/x-python",
   "name": "python",
   "nbconvert_exporter": "python",
   "pygments_lexer": "ipython3",
   "version": "3.9.7"
  },
  "orig_nbformat": 4
 },
 "nbformat": 4,
 "nbformat_minor": 2
}
