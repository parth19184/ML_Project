{
 "cells": [
  {
   "cell_type": "code",
   "execution_count": 17,
   "metadata": {},
   "outputs": [],
   "source": [
    "import pandas as pd\n",
    "import numpy as np\n",
    "import matplotlib.pyplot as plt\n",
    "from sklearn.model_selection import train_test_split\n",
    "from sklearn.linear_model import LogisticRegression\n",
    "from sklearn.model_selection import KFold"
   ]
  },
  {
   "cell_type": "code",
   "execution_count": 2,
   "metadata": {},
   "outputs": [
    {
     "data": {
      "text/html": [
       "<div>\n",
       "<style scoped>\n",
       "    .dataframe tbody tr th:only-of-type {\n",
       "        vertical-align: middle;\n",
       "    }\n",
       "\n",
       "    .dataframe tbody tr th {\n",
       "        vertical-align: top;\n",
       "    }\n",
       "\n",
       "    .dataframe thead th {\n",
       "        text-align: right;\n",
       "    }\n",
       "</style>\n",
       "<table border=\"1\" class=\"dataframe\">\n",
       "  <thead>\n",
       "    <tr style=\"text-align: right;\">\n",
       "      <th></th>\n",
       "      <th>Unnamed: 0</th>\n",
       "      <th>date</th>\n",
       "      <th>home_team</th>\n",
       "      <th>away_team</th>\n",
       "      <th>home_score</th>\n",
       "      <th>away_score</th>\n",
       "      <th>tournament</th>\n",
       "      <th>neutral</th>\n",
       "      <th>winner</th>\n",
       "      <th>GD</th>\n",
       "      <th>home_team_curr_form</th>\n",
       "      <th>away_team_curr_form</th>\n",
       "      <th>home_team_home_form</th>\n",
       "      <th>home_rank</th>\n",
       "      <th>away_rank</th>\n",
       "      <th>rank_diff</th>\n",
       "    </tr>\n",
       "  </thead>\n",
       "  <tbody>\n",
       "    <tr>\n",
       "      <th>0</th>\n",
       "      <td>0</td>\n",
       "      <td>2000-01-26</td>\n",
       "      <td>Spain</td>\n",
       "      <td>Poland</td>\n",
       "      <td>3</td>\n",
       "      <td>0</td>\n",
       "      <td>Friendly</td>\n",
       "      <td>False</td>\n",
       "      <td>Spain</td>\n",
       "      <td>3</td>\n",
       "      <td>10</td>\n",
       "      <td>1</td>\n",
       "      <td>10</td>\n",
       "      <td>7</td>\n",
       "      <td>43</td>\n",
       "      <td>36</td>\n",
       "    </tr>\n",
       "    <tr>\n",
       "      <th>1</th>\n",
       "      <td>1</td>\n",
       "      <td>2000-02-23</td>\n",
       "      <td>Belgium</td>\n",
       "      <td>Portugal</td>\n",
       "      <td>1</td>\n",
       "      <td>1</td>\n",
       "      <td>Friendly</td>\n",
       "      <td>False</td>\n",
       "      <td>Draw</td>\n",
       "      <td>0</td>\n",
       "      <td>8</td>\n",
       "      <td>11</td>\n",
       "      <td>5</td>\n",
       "      <td>27</td>\n",
       "      <td>6</td>\n",
       "      <td>21</td>\n",
       "    </tr>\n",
       "    <tr>\n",
       "      <th>2</th>\n",
       "      <td>2</td>\n",
       "      <td>2000-02-23</td>\n",
       "      <td>Croatia</td>\n",
       "      <td>Spain</td>\n",
       "      <td>0</td>\n",
       "      <td>0</td>\n",
       "      <td>Friendly</td>\n",
       "      <td>False</td>\n",
       "      <td>Draw</td>\n",
       "      <td>0</td>\n",
       "      <td>2</td>\n",
       "      <td>8</td>\n",
       "      <td>4</td>\n",
       "      <td>18</td>\n",
       "      <td>7</td>\n",
       "      <td>11</td>\n",
       "    </tr>\n",
       "    <tr>\n",
       "      <th>3</th>\n",
       "      <td>3</td>\n",
       "      <td>2000-02-23</td>\n",
       "      <td>England</td>\n",
       "      <td>Argentina</td>\n",
       "      <td>0</td>\n",
       "      <td>0</td>\n",
       "      <td>Friendly</td>\n",
       "      <td>False</td>\n",
       "      <td>Draw</td>\n",
       "      <td>0</td>\n",
       "      <td>8</td>\n",
       "      <td>8</td>\n",
       "      <td>8</td>\n",
       "      <td>17</td>\n",
       "      <td>3</td>\n",
       "      <td>14</td>\n",
       "    </tr>\n",
       "    <tr>\n",
       "      <th>4</th>\n",
       "      <td>4</td>\n",
       "      <td>2000-02-23</td>\n",
       "      <td>France</td>\n",
       "      <td>Poland</td>\n",
       "      <td>1</td>\n",
       "      <td>0</td>\n",
       "      <td>Friendly</td>\n",
       "      <td>False</td>\n",
       "      <td>France</td>\n",
       "      <td>1</td>\n",
       "      <td>13</td>\n",
       "      <td>1</td>\n",
       "      <td>12</td>\n",
       "      <td>2</td>\n",
       "      <td>43</td>\n",
       "      <td>41</td>\n",
       "    </tr>\n",
       "  </tbody>\n",
       "</table>\n",
       "</div>"
      ],
      "text/plain": [
       "   Unnamed: 0        date home_team  away_team  home_score  away_score  \\\n",
       "0           0  2000-01-26     Spain     Poland           3           0   \n",
       "1           1  2000-02-23   Belgium   Portugal           1           1   \n",
       "2           2  2000-02-23   Croatia      Spain           0           0   \n",
       "3           3  2000-02-23   England  Argentina           0           0   \n",
       "4           4  2000-02-23    France     Poland           1           0   \n",
       "\n",
       "  tournament  neutral  winner  GD  home_team_curr_form  away_team_curr_form  \\\n",
       "0   Friendly    False   Spain   3                   10                    1   \n",
       "1   Friendly    False    Draw   0                    8                   11   \n",
       "2   Friendly    False    Draw   0                    2                    8   \n",
       "3   Friendly    False    Draw   0                    8                    8   \n",
       "4   Friendly    False  France   1                   13                    1   \n",
       "\n",
       "   home_team_home_form  home_rank  away_rank  rank_diff  \n",
       "0                   10          7         43         36  \n",
       "1                    5         27          6         21  \n",
       "2                    4         18          7         11  \n",
       "3                    8         17          3         14  \n",
       "4                   12          2         43         41  "
      ]
     },
     "execution_count": 2,
     "metadata": {},
     "output_type": "execute_result"
    }
   ],
   "source": [
    "temp_df = pd.read_csv(\"other/features.csv\")\n",
    "temp_df.head(5)"
   ]
  },
  {
   "cell_type": "markdown",
   "metadata": {},
   "source": [
    "len(temp_df.columns)"
   ]
  },
  {
   "cell_type": "code",
   "execution_count": 4,
   "metadata": {},
   "outputs": [],
   "source": [
    "temp_df[\"metric\"] = 0"
   ]
  },
  {
   "cell_type": "code",
   "execution_count": 5,
   "metadata": {},
   "outputs": [],
   "source": [
    "for home_team in temp_df[\"home_team\"].iteritems():\n",
    "    if home_team[1] == temp_df.iloc[home_team[0], 8]:\n",
    "        temp_df.iloc[home_team[0], 16] = 1"
   ]
  },
  {
   "cell_type": "code",
   "execution_count": 9,
   "metadata": {},
   "outputs": [
    {
     "data": {
      "text/plain": [
       "941"
      ]
     },
     "execution_count": 9,
     "metadata": {},
     "output_type": "execute_result"
    }
   ],
   "source": [
    "temp_df.loc[temp_df[\"metric\"] == 1]"
   ]
  },
  {
   "cell_type": "code",
   "execution_count": 14,
   "metadata": {},
   "outputs": [],
   "source": [
    "X = temp_df[[ \"home_team_curr_form\", \"away_team_curr_form\", \"home_team_home_form\", \"home_rank\", \"away_rank\", \"rank_diff\"]]\n",
    "y = temp_df[\"metric\"]"
   ]
  },
  {
   "cell_type": "code",
   "execution_count": 15,
   "metadata": {},
   "outputs": [],
   "source": [
    "X_train, X_test, y_train, y_test = train_test_split(X, y, test_size=0.2)"
   ]
  },
  {
   "cell_type": "code",
   "execution_count": 16,
   "metadata": {},
   "outputs": [
    {
     "data": {
      "text/plain": [
       "0.8186274509803921"
      ]
     },
     "execution_count": 16,
     "metadata": {},
     "output_type": "execute_result"
    }
   ],
   "source": [
    "clf = LogisticRegression().fit(X_train, y_train)\n",
    "clf.score(X_test, y_test)"
   ]
  },
  {
   "cell_type": "code",
   "execution_count": 20,
   "metadata": {},
   "outputs": [],
   "source": [
    "from sklearn.metrics import f1_score\n",
    "from sklearn.metrics import precision_score"
   ]
  },
  {
   "cell_type": "code",
   "execution_count": 21,
   "metadata": {},
   "outputs": [
    {
     "name": "stdout",
     "output_type": "stream",
     "text": [
      "F1 score for fold 1: 0.828125\n",
      "Precision score for fold 1: 0.8457446808510638\n",
      "accuracy for split 1 is 0.8378378378378378\n",
      "F1 score for fold 2: 0.7832898172323759\n",
      "Precision score for fold 2: 0.7425742574257426\n",
      "accuracy for split 2 is 0.7960687960687961\n",
      "F1 score for fold 3: 0.7968337730870713\n",
      "Precision score for fold 3: 0.7823834196891192\n",
      "accuracy for split 3 is 0.8108108108108109\n",
      "F1 score for fold 4: 0.7862796833773086\n",
      "Precision score for fold 4: 0.764102564102564\n",
      "accuracy for split 4 is 0.800982800982801\n"
     ]
    }
   ],
   "source": [
    "kf = KFold(n_splits=4)\n",
    "i = 1\n",
    "for train_index, test_index in kf.split(X_train):\n",
    "    X_tr, X_te = X_train.iloc[train_index], X_train.iloc[test_index]\n",
    "    y_tr, y_te = y_train.iloc[train_index], y_train.iloc[test_index]\n",
    "    clf_here = LogisticRegression().fit(X_tr, y_tr)\n",
    "    y_pred = clf_here.predict(X_te)\n",
    "    print(\"F1 score for fold {}: {}\".format(i, f1_score(y_te, y_pred)))\n",
    "    print(\"Precision score for fold {}: {}\".format(i, precision_score(y_te, y_pred)))\n",
    "    print(\"accuracy for split {} is {}\".format(i, clf_here.score(X_te, y_te)))\n",
    "    i += 1"
   ]
  },
  {
   "cell_type": "code",
   "execution_count": 22,
   "metadata": {},
   "outputs": [
    {
     "name": "stdout",
     "output_type": "stream",
     "text": [
      "F1 score for fold 1: 0.828125\n",
      "Precision score for fold 1: 0.8457446808510638\n",
      "accuracy for split 1 is 0.8378378378378378\n",
      "F1 score for fold 2: 0.7832898172323759\n",
      "Precision score for fold 2: 0.7425742574257426\n",
      "accuracy for split 2 is 0.7960687960687961\n",
      "F1 score for fold 3: 0.7968337730870713\n",
      "Precision score for fold 3: 0.7823834196891192\n",
      "accuracy for split 3 is 0.8108108108108109\n",
      "F1 score for fold 4: 0.7862796833773086\n",
      "Precision score for fold 4: 0.764102564102564\n",
      "accuracy for split 4 is 0.800982800982801\n"
     ]
    }
   ],
   "source": [
    "kf = KFold(n_splits=4)\n",
    "i = 1\n",
    "for train_index, test_index in kf.split(X_train):\n",
    "    X_tr, X_te = X_train.iloc[train_index], X_train.iloc[test_index]\n",
    "    y_tr, y_te = y_train.iloc[train_index], y_train.iloc[test_index]\n",
    "    clf_here = LogisticRegression(penalty = \"l2\", solver = \"lbfgs\").fit(X_tr, y_tr)\n",
    "    y_pred = clf_here.predict(X_te)\n",
    "    print(\"F1 score for fold {}: {}\".format(i, f1_score(y_te, y_pred)))\n",
    "    print(\"Precision score for fold {}: {}\".format(i, precision_score(y_te, y_pred)))\n",
    "    print(\"accuracy for split {} is {}\".format(i, clf_here.score(X_te, y_te)))\n",
    "    i += 1"
   ]
  },
  {
   "cell_type": "code",
   "execution_count": 23,
   "metadata": {},
   "outputs": [
    {
     "name": "stdout",
     "output_type": "stream",
     "text": [
      "F1 score for fold 1: 0.8229166666666666\n",
      "Precision score for fold 1: 0.8404255319148937\n",
      "accuracy for split 1 is 0.8329238329238329\n",
      "F1 score for fold 2: 0.7853403141361257\n",
      "Precision score for fold 2: 0.746268656716418\n",
      "accuracy for split 2 is 0.7985257985257985\n",
      "F1 score for fold 3: 0.8\n",
      "Precision score for fold 3: 0.7835051546391752\n",
      "accuracy for split 3 is 0.8132678132678133\n",
      "F1 score for fold 4: 0.7830687830687831\n",
      "Precision score for fold 4: 0.7628865979381443\n",
      "accuracy for split 4 is 0.7985257985257985\n"
     ]
    }
   ],
   "source": [
    "kf = KFold(n_splits=4)\n",
    "i = 1\n",
    "for train_index, test_index in kf.split(X_train):\n",
    "    X_tr, X_te = X_train.iloc[train_index], X_train.iloc[test_index]\n",
    "    y_tr, y_te = y_train.iloc[train_index], y_train.iloc[test_index]\n",
    "    clf_here = LogisticRegression(penalty = \"l1\", solver = \"liblinear\").fit(X_tr, y_tr)\n",
    "    y_pred = clf_here.predict(X_te)\n",
    "    print(\"F1 score for fold {}: {}\".format(i, f1_score(y_te, y_pred)))\n",
    "    print(\"Precision score for fold {}: {}\".format(i, precision_score(y_te, y_pred)))\n",
    "    print(\"accuracy for split {} is {}\".format(i, clf_here.score(X_te, y_te)))\n",
    "    i += 1"
   ]
  }
 ],
 "metadata": {
  "interpreter": {
   "hash": "2ac3d5d3a4336f34c662130573d1ea696fb4dfcbf6baf7c9925b84262e1f6ae2"
  },
  "kernelspec": {
   "display_name": "Python 3.9.7 ('base')",
   "language": "python",
   "name": "python3"
  },
  "language_info": {
   "codemirror_mode": {
    "name": "ipython",
    "version": 3
   },
   "file_extension": ".py",
   "mimetype": "text/x-python",
   "name": "python",
   "nbconvert_exporter": "python",
   "pygments_lexer": "ipython3",
   "version": "3.9.7"
  },
  "orig_nbformat": 4
 },
 "nbformat": 4,
 "nbformat_minor": 2
}
